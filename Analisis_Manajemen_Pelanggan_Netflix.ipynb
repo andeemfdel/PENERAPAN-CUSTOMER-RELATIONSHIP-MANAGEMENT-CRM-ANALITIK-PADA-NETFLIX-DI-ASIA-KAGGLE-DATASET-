{
  "cells": [
    {
      "cell_type": "code",
      "execution_count": null,
      "metadata": {
        "id": "XECmBFO-BTr0"
      },
      "outputs": [],
      "source": [
        "!pip install -q nltk scikit-learn matplotlib seaborn\n"
      ]
    },
    {
      "cell_type": "code",
      "execution_count": null,
      "metadata": {
        "colab": {
          "base_uri": "https://localhost:8080/"
        },
        "id": "g4QAerBnGVZB",
        "outputId": "61815710-35da-4659-8e9a-d0b9316e9dfc"
      },
      "outputs": [
        {
          "output_type": "stream",
          "name": "stderr",
          "text": [
            "[nltk_data] Downloading package vader_lexicon to /root/nltk_data...\n"
          ]
        },
        {
          "output_type": "execute_result",
          "data": {
            "text/plain": [
              "True"
            ]
          },
          "metadata": {},
          "execution_count": 2
        }
      ],
      "source": [
        "import pandas as pd\n",
        "import numpy as np\n",
        "import seaborn as sns\n",
        "import matplotlib.pyplot as plt\n",
        "from sklearn.cluster import KMeans\n",
        "from sklearn.ensemble import RandomForestClassifier\n",
        "from sklearn.model_selection import train_test_split\n",
        "from sklearn.metrics import classification_report, confusion_matrix\n",
        "from nltk.sentiment import SentimentIntensityAnalyzer\n",
        "\n",
        "import nltk\n",
        "nltk.download('vader_lexicon')"
      ]
    },
    {
      "cell_type": "code",
      "execution_count": null,
      "metadata": {
        "id": "7rDUd2FGG_2f"
      },
      "outputs": [],
      "source": [
        "df = pd.read_csv('/content/sample_data/netflix_asia_dataset.csv')"
      ]
    },
    {
      "cell_type": "markdown",
      "metadata": {
        "id": "3S2r6YNZHSTc"
      },
      "source": [
        "# **Segmentasi Pelanggan (RFM + K-Means)**"
      ]
    },
    {
      "cell_type": "code",
      "execution_count": null,
      "metadata": {
        "id": "4bjSJNRFHKao"
      },
      "outputs": [],
      "source": [
        "rfm = df[['Recency', 'Frequency', 'Monetary']]\n",
        "kmeans = KMeans(n_clusters=4, random_state=42)\n",
        "df['Segments'] = kmeans.fit_predict(rfm)"
      ]
    },
    {
      "cell_type": "markdown",
      "metadata": {
        "id": "FDIYSE1UHzQv"
      },
      "source": [
        "# **Prediksi Churn**"
      ]
    },
    {
      "cell_type": "code",
      "execution_count": null,
      "metadata": {
        "colab": {
          "base_uri": "https://localhost:8080/"
        },
        "id": "1FOiVPyrH3ze",
        "outputId": "fff8cbb4-7902-4e1f-b952-4a17b3e0f504"
      },
      "outputs": [
        {
          "output_type": "stream",
          "name": "stdout",
          "text": [
            "Confusion Matrix:\n",
            " [[176  11]\n",
            " [ 50   3]]\n",
            "\n",
            "Classification Report:\n",
            "               precision    recall  f1-score   support\n",
            "\n",
            "           0       0.78      0.94      0.85       187\n",
            "           1       0.21      0.06      0.09        53\n",
            "\n",
            "    accuracy                           0.75       240\n",
            "   macro avg       0.50      0.50      0.47       240\n",
            "weighted avg       0.65      0.75      0.68       240\n",
            "\n"
          ]
        }
      ],
      "source": [
        "X = df[['Recency', 'Frequency', 'Monetary', 'Subscription_Length_Months']]\n",
        "y = df['Churn']\n",
        "X_train, X_test, y_train, y_test = train_test_split(X, y, test_size=0.3, random_state=42)\n",
        "\n",
        "model = RandomForestClassifier(random_state=42)\n",
        "model.fit(X_train, y_train)\n",
        "y_pred = model.predict(X_test)\n",
        "\n",
        "print(\"Confusion Matrix:\\n\", confusion_matrix(y_test, y_pred))\n",
        "print(\"\\nClassification Report:\\n\", classification_report(y_test, y_pred))"
      ]
    },
    {
      "cell_type": "markdown",
      "metadata": {
        "id": "H0FeGb52IYRS"
      },
      "source": [
        "# **Analisis Sentimen**"
      ]
    },
    {
      "cell_type": "code",
      "execution_count": null,
      "metadata": {
        "id": "HSlKd7BZIdC8"
      },
      "outputs": [],
      "source": [
        "sia = SentimentIntensityAnalyzer()\n",
        "df['Sentiment_Score'] = df['Review_Text'].apply(lambda x: sia.polarity_scores(x)['compound'])\n",
        "df['Sentiment_Label'] = df['Sentiment_Score'].apply(\n",
        "    lambda x: 'Positive' if x >= 0.2 else ('Negative' if x <= -0.2 else 'Neutral'))"
      ]
    },
    {
      "cell_type": "markdown",
      "metadata": {
        "id": "Q8LqsVTlJlck"
      },
      "source": [
        "# **Visualisasi**"
      ]
    },
    {
      "cell_type": "code",
      "execution_count": null,
      "metadata": {
        "colab": {
          "base_uri": "https://localhost:8080/",
          "height": 434
        },
        "id": "k32dmuN_Jn71",
        "outputId": "3f53b4c5-0e67-45f6-d528-a0a0f6bf70f8"
      },
      "outputs": [
        {
          "output_type": "display_data",
          "data": {
            "text/plain": [
              "<Figure size 1000x500 with 1 Axes>"
            ],
            "image/png": "[encoded data removed]"
          },
          "metadata": {}
        }
      ],
      "source": [
        "plt.figure(figsize=(10, 5))\n",
        "sns.countplot(x='Segments', hue='Sentiment_Label', data=df)\n",
        "plt.title(\"Distribusi Segmen dan Sentimen\")\n",
        "plt.show()"
      ]
    },
    {
      "cell_type": "code",
      "execution_count": null,
      "metadata": {
        "colab": {
          "base_uri": "https://localhost:8080/",
          "height": 410
        },
        "id": "EvNLzskIJzNn",
        "outputId": "37d18942-938a-46cc-e1c4-dff78be1fc93"
      },
      "outputs": [
        {
          "output_type": "display_data",
          "data": {
            "text/plain": [
              "<Figure size 800x400 with 1 Axes>"
            ],
            "image/png": "[encoded data removed]"
          },
          "metadata": {}
        }
      ],
      "source": [
        "plt.figure(figsize=(8, 4))\n",
        "sns.boxenplot(x='Segments', y='CLV', data=df)\n",
        "plt.title(\"CLV berdasarkan Segmen\")\n",
        "plt.show()"
      ]
    },
    {
      "cell_type": "code",
      "execution_count": null,
      "metadata": {
        "colab": {
          "base_uri": "https://localhost:8080/"
        },
        "id": "FTda6RZmKvnT",
        "outputId": "88acf993-5818-497b-dec7-6227468efc01"
      },
      "outputs": [
        {
          "output_type": "stream",
          "name": "stdout",
          "text": [
            "Collecting dash\n",
            "  Downloading dash-3.0.4-py3-none-any.whl.metadata (10 kB)\n",
            "Collecting dash-bootstrap-components\n",
            "  Downloading dash_bootstrap_components-2.0.3-py3-none-any.whl.metadata (18 kB)\n",
            "Collecting pyngrok\n",
            "  Downloading pyngrok-7.2.11-py3-none-any.whl.metadata (9.4 kB)\n",
            "Collecting Flask<3.1,>=1.0.4 (from dash)\n",
            "  Downloading flask-3.0.3-py3-none-any.whl.metadata (3.2 kB)\n",
            "Collecting Werkzeug<3.1 (from dash)\n",
            "  Downloading werkzeug-3.0.6-py3-none-any.whl.metadata (3.7 kB)\n",
            "Requirement already satisfied: plotly>=5.0.0 in /usr/local/lib/python3.11/dist-packages (from dash) (5.24.1)\n",
            "Requirement already satisfied: importlib-metadata in /usr/local/lib/python3.11/dist-packages (from dash) (8.7.0)\n",
            "Requirement already satisfied: typing-extensions>=4.1.1 in /usr/local/lib/python3.11/dist-packages (from dash) (4.14.0)\n",
            "Requirement already satisfied: requests in /usr/local/lib/python3.11/dist-packages (from dash) (2.32.3)\n",
            "Collecting retrying (from dash)\n",
            "  Downloading retrying-1.3.4-py3-none-any.whl.metadata (6.9 kB)\n",
            "Requirement already satisfied: nest-asyncio in /usr/local/lib/python3.11/dist-packages (from dash) (1.6.0)\n",
            "Requirement already satisfied: setuptools in /usr/local/lib/python3.11/dist-packages (from dash) (75.2.0)\n",
            "Requirement already satisfied: PyYAML>=5.1 in /usr/local/lib/python3.11/dist-packages (from pyngrok) (6.0.2)\n",
            "Requirement already satisfied: Jinja2>=3.1.2 in /usr/local/lib/python3.11/dist-packages (from Flask<3.1,>=1.0.4->dash) (3.1.6)\n",
            "Requirement already satisfied: itsdangerous>=2.1.2 in /usr/local/lib/python3.11/dist-packages (from Flask<3.1,>=1.0.4->dash) (2.2.0)\n",
            "Requirement already satisfied: click>=8.1.3 in /usr/local/lib/python3.11/dist-packages (from Flask<3.1,>=1.0.4->dash) (8.2.1)\n",
            "Requirement already satisfied: blinker>=1.6.2 in /usr/local/lib/python3.11/dist-packages (from Flask<3.1,>=1.0.4->dash) (1.9.0)\n",
            "Requirement already satisfied: tenacity>=6.2.0 in /usr/local/lib/python3.11/dist-packages (from plotly>=5.0.0->dash) (9.1.2)\n",
            "Requirement already satisfied: packaging in /usr/local/lib/python3.11/dist-packages (from plotly>=5.0.0->dash) (24.2)\n",
            "Requirement already satisfied: MarkupSafe>=2.1.1 in /usr/local/lib/python3.11/dist-packages (from Werkzeug<3.1->dash) (3.0.2)\n",
            "Requirement already satisfied: zipp>=3.20 in /usr/local/lib/python3.11/dist-packages (from importlib-metadata->dash) (3.22.0)\n",
            "Requirement already satisfied: charset-normalizer<4,>=2 in /usr/local/lib/python3.11/dist-packages (from requests->dash) (3.4.2)\n",
            "Requirement already satisfied: idna<4,>=2.5 in /usr/local/lib/python3.11/dist-packages (from requests->dash) (3.10)\n",
            "Requirement already satisfied: urllib3<3,>=1.21.1 in /usr/local/lib/python3.11/dist-packages (from requests->dash) (2.4.0)\n",
            "Requirement already satisfied: certifi>=2017.4.17 in /usr/local/lib/python3.11/dist-packages (from requests->dash) (2025.4.26)\n",
            "Requirement already satisfied: six>=1.7.0 in /usr/local/lib/python3.11/dist-packages (from retrying->dash) (1.17.0)\n",
            "Downloading dash-3.0.4-py3-none-any.whl (7.9 MB)\n",
            "\u001b[2K   \u001b[90m━━━━━━━━━━━━━━━━━━━━━━━━━━━━━━━━━━━━━━━━\u001b[0m \u001b[32m7.9/7.9 MB\u001b[0m \u001b[31m36.2 MB/s\u001b[0m eta \u001b[36m0:00:00\u001b[0m\n",
            "\u001b[?25hDownloading dash_bootstrap_components-2.0.3-py3-none-any.whl (203 kB)\n",
            "\u001b[2K   \u001b[90m━━━━━━━━━━━━━━━━━━━━━━━━━━━━━━━━━━━━━━━━\u001b[0m \u001b[32m203.7/203.7 kB\u001b[0m \u001b[31m6.9 MB/s\u001b[0m eta \u001b[36m0:00:00\u001b[0m\n",
            "\u001b[?25hDownloading pyngrok-7.2.11-py3-none-any.whl (25 kB)\n",
            "Downloading flask-3.0.3-py3-none-any.whl (101 kB)\n",
            "\u001b[2K   \u001b[90m━━━━━━━━━━━━━━━━━━━━━━━━━━━━━━━━━━━━━━━━\u001b[0m \u001b[32m101.7/101.7 kB\u001b[0m \u001b[31m11.3 MB/s\u001b[0m eta \u001b[36m0:00:00\u001b[0m\n",
            "\u001b[?25hDownloading werkzeug-3.0.6-py3-none-any.whl (227 kB)\n",
            "\u001b[2K   \u001b[90m━━━━━━━━━━━━━━━━━━━━━━━━━━━━━━━━━━━━━━━━\u001b[0m \u001b[32m228.0/228.0 kB\u001b[0m \u001b[31m22.5 MB/s\u001b[0m eta \u001b[36m0:00:00\u001b[0m\n",
            "\u001b[?25hDownloading retrying-1.3.4-py3-none-any.whl (11 kB)\n",
            "Installing collected packages: Werkzeug, retrying, pyngrok, Flask, dash, dash-bootstrap-components\n",
            "  Attempting uninstall: Werkzeug\n",
            "    Found existing installation: Werkzeug 3.1.3\n",
            "    Uninstalling Werkzeug-3.1.3:\n",
            "      Successfully uninstalled Werkzeug-3.1.3\n",
            "  Attempting uninstall: Flask\n",
            "    Found existing installation: Flask 3.1.1\n",
            "    Uninstalling Flask-3.1.1:\n",
            "      Successfully uninstalled Flask-3.1.1\n",
            "Successfully installed Flask-3.0.3 Werkzeug-3.0.6 dash-3.0.4 dash-bootstrap-components-2.0.3 pyngrok-7.2.11 retrying-1.3.4\n"
          ]
        }
      ],
      "source": [
        "!pip install dash dash-bootstrap-components pyngrok"
      ]
    },
    {
      "cell_type": "markdown",
      "metadata": {
        "id": "n5Y09b4NLgVl"
      },
      "source": [
        "# **Dashboard Analisis Managemen Hubungan Pelanggan**"
      ]
    },
    {
      "cell_type": "code",
      "execution_count": null,
      "metadata": {
        "id": "ihU3qcyxLX2I"
      },
      "outputs": [],
      "source": [
        "from dash import Dash, dcc, html, Input, Output\n",
        "import dash_bootstrap_components as dbc\n",
        "import plotly.express as px\n",
        "import pandas as pd"
      ]
    },
    {
      "cell_type": "code",
      "execution_count": null,
      "metadata": {
        "id": "EdlqU4LEMPF6"
      },
      "outputs": [],
      "source": [
        "app = Dash(__name__, external_stylesheets=[dbc.themes.BOOTSTRAP])\n",
        "app.title = \"Dashboard Analisis Manajemen Hubungan Pelanggan pada Netflix\""
      ]
    },
    {
      "cell_type": "code",
      "execution_count": null,
      "metadata": {
        "colab": {
          "base_uri": "https://localhost:8080/"
        },
        "id": "s8mBrI6-cH_l",
        "outputId": "c8846949-184f-4d5d-cdde-9ec3d7164a7e"
      },
      "outputs": [
        {
          "output_type": "stream",
          "name": "stdout",
          "text": [
            "Segments\n",
            "3    219\n",
            "2    203\n",
            "1    194\n",
            "0    184\n",
            "Name: count, dtype: int64\n"
          ]
        }
      ],
      "source": [
        "rfm = df[['Recency', 'Frequency', 'Monetary']]\n",
        "\n",
        "# Lakukan scaling (jika perlu)\n",
        "from sklearn.preprocessing import StandardScaler\n",
        "scaler = StandardScaler()\n",
        "rfm_scaled = scaler.fit_transform(rfm)\n",
        "\n",
        "# Jalankan KMeans clustering\n",
        "kmeans = KMeans(n_clusters=4, random_state=42)\n",
        "df['Segments'] = kmeans.fit_predict(rfm_scaled)\n",
        "\n",
        "# Cek hasil\n",
        "print(df['Segments'].value_counts())"
      ]
    },
    {
      "cell_type": "code",
      "execution_count": null,
      "metadata": {
        "colab": {
          "base_uri": "https://localhost:8080/"
        },
        "id": "vj6e7P6FcwnM",
        "outputId": "a3bd6407-d260-4706-a2bc-5136ef56187d"
      },
      "outputs": [
        {
          "output_type": "stream",
          "name": "stdout",
          "text": [
            "Requirement already satisfied: transformers in /usr/local/lib/python3.11/dist-packages (4.52.4)\n",
            "Requirement already satisfied: filelock in /usr/local/lib/python3.11/dist-packages (from transformers) (3.18.0)\n",
            "Requirement already satisfied: huggingface-hub<1.0,>=0.30.0 in /usr/local/lib/python3.11/dist-packages (from transformers) (0.32.4)\n",
            "Requirement already satisfied: numpy>=1.17 in /usr/local/lib/python3.11/dist-packages (from transformers) (2.0.2)\n",
            "Requirement already satisfied: packaging>=20.0 in /usr/local/lib/python3.11/dist-packages (from transformers) (24.2)\n",
            "Requirement already satisfied: pyyaml>=5.1 in /usr/local/lib/python3.11/dist-packages (from transformers) (6.0.2)\n",
            "Requirement already satisfied: regex!=2019.12.17 in /usr/local/lib/python3.11/dist-packages (from transformers) (2024.11.6)\n",
            "Requirement already satisfied: requests in /usr/local/lib/python3.11/dist-packages (from transformers) (2.32.3)\n",
            "Requirement already satisfied: tokenizers<0.22,>=0.21 in /usr/local/lib/python3.11/dist-packages (from transformers) (0.21.1)\n",
            "Requirement already satisfied: safetensors>=0.4.3 in /usr/local/lib/python3.11/dist-packages (from transformers) (0.5.3)\n",
            "Requirement already satisfied: tqdm>=4.27 in /usr/local/lib/python3.11/dist-packages (from transformers) (4.67.1)\n",
            "Requirement already satisfied: fsspec>=2023.5.0 in /usr/local/lib/python3.11/dist-packages (from huggingface-hub<1.0,>=0.30.0->transformers) (2025.3.2)\n",
            "Requirement already satisfied: typing-extensions>=3.7.4.3 in /usr/local/lib/python3.11/dist-packages (from huggingface-hub<1.0,>=0.30.0->transformers) (4.14.0)\n",
            "Requirement already satisfied: hf-xet<2.0.0,>=1.1.2 in /usr/local/lib/python3.11/dist-packages (from huggingface-hub<1.0,>=0.30.0->transformers) (1.1.2)\n",
            "Requirement already satisfied: charset-normalizer<4,>=2 in /usr/local/lib/python3.11/dist-packages (from requests->transformers) (3.4.2)\n",
            "Requirement already satisfied: idna<4,>=2.5 in /usr/local/lib/python3.11/dist-packages (from requests->transformers) (3.10)\n",
            "Requirement already satisfied: urllib3<3,>=1.21.1 in /usr/local/lib/python3.11/dist-packages (from requests->transformers) (2.4.0)\n",
            "Requirement already satisfied: certifi>=2017.4.17 in /usr/local/lib/python3.11/dist-packages (from requests->transformers) (2025.4.26)\n"
          ]
        }
      ],
      "source": [
        "pip install transformers"
      ]
    },
    {
      "cell_type": "code",
      "source": [
        "!pip install -q streamlit pyngrok pandas matplotlib seaborn"
      ],
      "metadata": {
        "colab": {
          "base_uri": "https://localhost:8080/"
        },
        "id": "umA41lGThZsn",
        "outputId": "cd8e9750-9a45-4331-8335-cf92f941b2bb"
      },
      "execution_count": null,
      "outputs": [
        {
          "output_type": "stream",
          "name": "stdout",
          "text": [
            "\u001b[2K     \u001b[90m━━━━━━━━━━━━━━━━━━━━━━━━━━━━━━━━━━━━━━━━\u001b[0m \u001b[32m44.3/44.3 kB\u001b[0m \u001b[31m1.6 MB/s\u001b[0m eta \u001b[36m0:00:00\u001b[0m\n",
            "\u001b[2K   \u001b[90m━━━━━━━━━━━━━━━━━━━━━━━━━━━━━━━━━━━━━━━━\u001b[0m \u001b[32m9.9/9.9 MB\u001b[0m \u001b[31m38.1 MB/s\u001b[0m eta \u001b[36m0:00:00\u001b[0m\n",
            "\u001b[2K   \u001b[90m━━━━━━━━━━━━━━━━━━━━━━━━━━━━━━━━━━━━━━━━\u001b[0m \u001b[32m6.9/6.9 MB\u001b[0m \u001b[31m58.9 MB/s\u001b[0m eta \u001b[36m0:00:00\u001b[0m\n",
            "\u001b[2K   \u001b[90m━━━━━━━━━━━━━━━━━━━━━━━━━━━━━━━━━━━━━━━━\u001b[0m \u001b[32m79.1/79.1 kB\u001b[0m \u001b[31m8.4 MB/s\u001b[0m eta \u001b[36m0:00:00\u001b[0m\n",
            "\u001b[?25h"
          ]
        }
      ]
    },
    {
      "cell_type": "code",
      "execution_count": null,
      "metadata": {
        "colab": {
          "base_uri": "https://localhost:8080/"
        },
        "id": "N5V3zOoPdDFJ",
        "outputId": "d18d0076-6394-4d6a-8d9e-6e70f9a5a2ce"
      },
      "outputs": [
        {
          "output_type": "stream",
          "name": "stderr",
          "text": [
            "Device set to use cpu\n"
          ]
        }
      ],
      "source": [
        "from transformers import pipeline\n",
        "\n",
        "classifier = pipeline(\"sentiment-analysis\", model=\"w11wo/indonesian-roberta-base-sentiment-classifier\")\n",
        "\n",
        "def classify_sentiment(text):\n",
        "    try:\n",
        "        result = classifier(str(text))[0]['label']\n",
        "        return result\n",
        "    except:\n",
        "        return 'Unknown'\n",
        "\n",
        "df['Sentiment_Label'] = df['Review_Text'].apply(classify_sentiment)"
      ]
    },
    {
      "cell_type": "code",
      "execution_count": null,
      "metadata": {
        "id": "hwa78EHsMh3i"
      },
      "outputs": [],
      "source": [
        "app.layout = dbc.Container([\n",
        "    html.H1(\"Dashboard Analisis Manajemen Hubungan Pelanggan pada Netflix\", className=\"text-center my-4\"),\n",
        "\n",
        "    dbc.Row([\n",
        "        dbc.Col([\n",
        "            html.Label(\"Filter by Segment:\"),\n",
        "            dcc.Dropdown(\n",
        "               options=[{'label': f'Segment {i}', 'value': i} for i in sorted(df['Segments'].unique())],\n",
        "                value=None,\n",
        "                id='segment-filter',\n",
        "                placeholder='Select segment...',\n",
        "                multi=True\n",
        "            ),\n",
        "        ], width=4),\n",
        "\n",
        "        dbc.Col([\n",
        "            html.Label(\"Filter by Sentiment:\"),\n",
        "            dcc.Dropdown(\n",
        "                options=[{'label' : i, 'value': i} for i in df['Sentiment_Label'].unique()],\n",
        "                value=None,\n",
        "                id='sentiment-filter',\n",
        "                placeholder='Select sentiment...',\n",
        "                multi=True\n",
        "            )\n",
        "        ], width=4),\n",
        "    ], className=\"mb-4\"),\n",
        "\n",
        "    dbc.Row([\n",
        "        dbc.Col(dcc.Graph(id='clv-boxplot'), width=6),\n",
        "        dbc.Col(dcc.Graph(id='sentiment-distribution'), width=6),\n",
        "    ]),\n",
        "\n",
        "    dbc.Row([\n",
        "        dbc.Col(dcc.Graph(id='churn-bar'), width=12)\n",
        "    ])\n",
        "], fluid=True)\n",
        "\n",
        "\n",
        "@app.callback(\n",
        "    Output('clv-boxplot', 'figure'),\n",
        "    Output('sentiment-distribution', 'figure'),\n",
        "    Output('churn-bar', 'figure'),\n",
        "    Input('segment-filter', 'value'),\n",
        "    Input('sentiment-filter', 'value')\n",
        ")\n",
        "def update_graphs(selected_segments, selected_sentiments):\n",
        "    dff = df.copy()\n",
        "    if selected_segments:\n",
        "        dff = dff[dff['Segments'].isin(selected_segments)]\n",
        "    if selected_sentiments:\n",
        "        dff = dff[dff['Sentiment_Label'].isin(selected_sentiments)]\n",
        "\n",
        "    fig1 = px.box(dff, x='Segments', y='CLV', color='Segments', title=\"CLV per Segment\")\n",
        "    fig2 = px.histogram(dff, x='Sentiment_Label', color='Sentiment_Label', title=\"Sentiment Distribution\")\n",
        "    fig3 = px.histogram(dff, x='Churn', color='Segment', barmode='group',\n",
        "                        title=\"Churn by Segment\", labels={'Churn': 'Churn (1=Yes, 0=No)'})\n",
        "\n",
        "    return fig1, fig2, fig3\n",
        "\n",
        "\n"
      ]
    },
    {
      "cell_type": "code",
      "execution_count": null,
      "metadata": {
        "id": "qO3BbUgDQJ_E"
      },
      "outputs": [],
      "source": [
        "with open(\"app.py\", \"w\") as f:\n",
        "    f.write(\"\"\"\n",
        "import streamlit as st\n",
        "import pandas as pd\n",
        "import matplotlib.pyplot as plt\n",
        "import seaborn as sns\n",
        "\n",
        "# Konfigurasi\n",
        "st.set_page_config(layout=\"wide\")\n",
        "st.title(\"📊 Analisis RFM & CLV - Netflix Asia\")\n",
        "\n",
        "# Load data\n",
        "df = pd.read_csv(\"/content/sample_data/netflix_asia_dataset.csv\")\n",
        "\n",
        "# Tampilkan data awal\n",
        "st.subheader(\"🔍 Cuplikan Data\")\n",
        "st.dataframe(df.head())\n",
        "\n",
        "# Visualisasi Distribusi Recency\n",
        "st.subheader(\"⏳ Distribusi Recency\")\n",
        "fig1, ax1 = plt.subplots()\n",
        "sns.histplot(df['Recency'], bins=20, kde=True, ax=ax1)\n",
        "st.pyplot(fig1)\n",
        "\n",
        "# Visualisasi Distribusi Frequency\n",
        "st.subheader(\"🔁 Distribusi Frequency\")\n",
        "fig2, ax2 = plt.subplots()\n",
        "sns.histplot(df['Frequency'], bins=20, kde=True, ax=ax2)\n",
        "st.pyplot(fig2)\n",
        "\n",
        "# Visualisasi Distribusi Monetary\n",
        "st.subheader(\"💰 Distribusi Monetary\")\n",
        "fig3, ax3 = plt.subplots()\n",
        "sns.histplot(df['Monetary'], bins=20, kde=True, ax=ax3)\n",
        "st.pyplot(fig3)\n",
        "\n",
        "# Visualisasi CLV\n",
        "st.subheader(\"📈 Distribusi Customer Lifetime Value (CLV)\")\n",
        "fig4, ax4 = plt.subplots()\n",
        "sns.histplot(df['CLV'], bins=20, kde=True, ax=ax4)\n",
        "st.pyplot(fig4)\n",
        "\n",
        "# Segmentasi Pelanggan (opsional jika ada kolom 'Segment')\n",
        "if 'Segment' in df.columns:\n",
        "    st.subheader(\"🧩 Segmentasi Pelanggan\")\n",
        "    fig5, ax5 = plt.subplots()\n",
        "    sns.countplot(data=df, x='Segment', order=df['Segment'].value_counts().index, palette='Set2', ax=ax5)\n",
        "    ax5.set_ylabel(\"Jumlah Pelanggan\")\n",
        "    st.pyplot(fig5)\n",
        "\"\"\")\n"
      ]
    },
    {
      "cell_type": "code",
      "source": [
        "ngrok.kill()"
      ],
      "metadata": {
        "id": "HUGItJc4l6i4"
      },
      "execution_count": null,
      "outputs": []
    },
    {
      "cell_type": "code",
      "execution_count": null,
      "metadata": {
        "colab": {
          "base_uri": "https://localhost:8080/"
        },
        "id": "igkG51YWd1Hw",
        "outputId": "2b299511-3d34-406a-a180-f21b33f7ff89"
      },
      "outputs": [
        {
          "output_type": "stream",
          "name": "stdout",
          "text": [
            "🌐 Ngrok URL: NgrokTunnel: \"https://3f0a-34-106-151-59.ngrok-free.app\" -> \"http://localhost:8501\"\n"
          ]
        }
      ],
      "source": [
        "from pyngrok import ngrok\n",
        "import subprocess\n",
        "\n",
        "\n",
        "ngrok.kill()\n",
        "\n",
        "ngrok.set_auth_token(\"2yEZhCBXWSFJkL8bb3KYVQYTOg6_4E6SPAzFot2ApyrPyjUgS\")\n",
        "public_url = ngrok.connect(8501)\n",
        "print(f\"🌐 Ngrok URL: {public_url}\")\n",
        "\n",
        "#!streamlit run app.py --server.port 8501 --server.enableCORS false\n",
        "process = subprocess.Popen([\"streamlit\", \"run\", \"app.py\", \"--server.port=8501\"])"
      ]
    },
    {
      "cell_type": "code",
      "execution_count": null,
      "metadata": {
        "id": "KtAnr82YkxnL"
      },
      "outputs": [],
      "source": []
    }
  ],
  "metadata": {
    "colab": {
      "provenance": []
    },
    "kernelspec": {
      "display_name": "Python 3",
      "name": "python3"
    },
    "language_info": {
      "name": "python"
    }
  },
  "nbformat": 4,
  "nbformat_minor": 0
}